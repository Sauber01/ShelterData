   "source": [
    "import pandas as pd\n",
    "import gspread\n",
    "from oauth2client.service_account import ServiceAccountCredentials\n",
    "\n",
    "# 1. Прочитаем основной файл (statement) и файл фильтра (filterl)\n",
    "data_df = pd.read_excel('statement.xlsx')\n",
    "filter_df = pd.read_excel('filterl.xlsx')\n",
    "\n",
    "# 2. Получаем список значений для фильтрации из 4-го столбца файла filterl\n",
    "filter_values = filter_df.iloc[:, 0].tolist()\n",
    "\n",
    "# 3. Фильтруем данные: исключаем строки, где 4-й столбец есть в списке фильтра\n",
    "filtered_df = data_df[~data_df.iloc[:, 3].isin(filter_values)]\n",
    "\n",
    "# 4. Оставляем только строки, где во 2-м столбце значение больше 0\n",
    "filtered_df.iloc[:, 1] = pd.to_numeric(filtered_df.iloc[:, 1], errors='coerce')\n",
    "filtered_df = filtered_df[filtered_df.iloc[:, 1] > 0]\n",
    "\n",
    "# 5. Преобразуем дату в формат ДД.ММ.ГГГГ\n",
    "filtered_df.iloc[:, 0] = pd.to_datetime(filtered_df.iloc[:, 0], errors='coerce').dt.strftime('%d.%m.%Y')\n",
    "\n",
    "# 6. Остальные колонки (кроме суммы) — в строки\n",
    "for col in range(2, filtered_df.shape[1]):\n",
    "    filtered_df.iloc[:, col] = filtered_df.iloc[:, col].astype(str)\n",
    "\n",
    "# *** ДОБАВИМ ПРОВЕРКУ ***\n",
    "print(\"Размер filtered_df:\", filtered_df.shape)\n",
    "print(\"Первые строки filtered_df:\")\n",
    "print(filtered_df.head())\n",
    "\n",
    "# 7. Авторизация для доступа к Google Sheets\n",
    "scope = [\"https://spreadsheets.google.com/feeds\", \"https://www.googleapis.com/auth/drive\"]\n",
    "credentials = ServiceAccountCredentials.from_json_keyfile_name('creds.json', scope)\n",
    "client = gspread.authorize(credentials)\n",
    "\n",
    "# 8. Открываем нужный лист в Google Sheets\n",
    "spreadsheet = client.open('Priut')\n",
    "worksheet = spreadsheet.worksheet('Income')\n",
    "\n",
    "# 9. Очищаем диапазон A5:F (если нужно)\n",
    "worksheet.batch_clear([f\"A5:F{worksheet.row_count}\"])\n",
    "\n",
    "# 10. Загружаем отфильтрованные данные с заголовками (начиная с 5-й строки)\n",
    "worksheet.update(filtered_df.values.tolist(), 'A5')\n",
    "\n",
    "\n",
    "print(\"Данные успешно обновлены!\")\n"
   ]
  },
  {
   "cell_type": "code",
   "execution_count": null,
   "id": "36a48677-42df-452e-9be4-6bc131d710da",
   "metadata": {},
   "outputs": [],
   "source": []
  }
 ],
 "metadata": {
  "kernelspec": {
   "display_name": "base",
   "language": "python",
   "name": "python3"
  },
  "language_info": {
   "codemirror_mode": {
    "name": "ipython",
    "version": 3
   },
   "file_extension": ".py",
   "mimetype": "text/x-python",
   "name": "python",
   "nbconvert_exporter": "python",
   "pygments_lexer": "ipython3",
   "version": "3.12.4"
  }
 },
 "nbformat": 4,
 "nbformat_minor": 5
}
